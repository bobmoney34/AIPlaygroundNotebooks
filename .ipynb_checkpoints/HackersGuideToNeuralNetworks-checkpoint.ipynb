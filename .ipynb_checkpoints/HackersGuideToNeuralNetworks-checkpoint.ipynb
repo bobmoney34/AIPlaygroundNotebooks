{
 "cells": [
  {
   "cell_type": "code",
   "execution_count": 36,
   "metadata": {
    "collapsed": false
   },
   "outputs": [
    {
     "name": "stdout",
     "output_type": "stream",
     "text": [
      "-6\n"
     ]
    }
   ],
   "source": [
    "#a circuit that takes two inputs and muliplies them\n",
    "\n",
    "def forwardMultiplyGate(x, y):\n",
    "    return x * y\n",
    "\n",
    "print(forwardMultiplyGate(-2 , 3))\n",
    "x=-2\n",
    "y=3"
   ]
  },
  {
   "cell_type": "code",
   "execution_count": 37,
   "metadata": {
    "collapsed": false
   },
   "outputs": [
    {
     "name": "stdout",
     "output_type": "stream",
     "text": [
      "-5.987216605866959\n",
      "-1.9956743809964521\n",
      "3.0000969411039424\n"
     ]
    }
   ],
   "source": [
    "#tweak x and y randomly to get the right combination of x and y that maximizes your output\n",
    "import math\n",
    "import random\n",
    "tweak_amount = 0.01\n",
    "best_out = -math.inf\n",
    "best_x = x\n",
    "best_y=y\n",
    "\n",
    "counter =0\n",
    "\n",
    "while(counter<300):\n",
    "    x_try = x + tweak_amount * (random.random() * 2 - 1)\n",
    "    y_try = y + tweak_amount * (random.random() * 2 - 1)\n",
    "    counter= counter +1\n",
    "    #print(counter)\n",
    "    out = forwardMultiplyGate(x_try, y_try)\n",
    "    if(out > best_out):\n",
    "        best_x= x_try\n",
    "        best_y = y_try\n",
    "        \n",
    "best_out = forwardMultiplyGate(best_x,best_y)        \n",
    "print(best_out)\n",
    "print(best_x)\n",
    "print(best_y)"
   ]
  },
  {
   "cell_type": "code",
   "execution_count": 38,
   "metadata": {
    "collapsed": false
   },
   "outputs": [],
   "source": [
    "h = 0.0001\n",
    "#calculating the derivative numerically\n",
    "#x derivative\n",
    "\n",
    "xph = x + h\n",
    "\n",
    "out2 = forwardMultiplyGate(xph,y)\n",
    "x_derivative = (out2-out)/h\n",
    "\n",
    "#y derivative\n",
    "yph = y +h\n",
    "out3 = forwardMultiplyGate(x,yph)\n",
    "y_derivative = (out3-out)/h"
   ]
  },
  {
   "cell_type": "code",
   "execution_count": 39,
   "metadata": {
    "collapsed": false
   },
   "outputs": [
    {
     "name": "stdout",
     "output_type": "stream",
     "text": [
      "-5.527571151830357\n"
     ]
    }
   ],
   "source": [
    "#gradient is made up of the derivatives of alll the inputs in a vector\n",
    "\n",
    "step_size = 0.01\n",
    "out = forwardMultiplyGate(x,y)\n",
    "x = x + step_size * x_derivative\n",
    "y = y + step_size * y_derivative\n",
    "out_new = forwardMultiplyGate(x,y)\n",
    "\n",
    "print(out_new)"
   ]
  },
  {
   "cell_type": "code",
   "execution_count": 46,
   "metadata": {
    "collapsed": false
   },
   "outputs": [
    {
     "name": "stdout",
     "output_type": "stream",
     "text": [
      "-5.8706\n"
     ]
    }
   ],
   "source": [
    "import math\n",
    "x = -2\n",
    "y= 3\n",
    "out = forwardMultiplyGate(x,y)\n",
    "x_gradient = y\n",
    "y_gradient = x\n",
    "step_size = 0.01\n",
    "x += step_size * x_gradient\n",
    "y += step_size * y_gradient\n",
    "out_new = forwardMultiplyGate(x,y)\n",
    "print(out_new)\n"
   ]
  },
  {
   "cell_type": "code",
   "execution_count": 49,
   "metadata": {
    "collapsed": false
   },
   "outputs": [
    {
     "name": "stdout",
     "output_type": "stream",
     "text": [
      "-12\n"
     ]
    }
   ],
   "source": [
    "def forwardMultiplyGate(a ,b):\n",
    "    return a * b\n",
    "\n",
    "def forwardAddGate(a , b):\n",
    "    return a + b\n",
    "\n",
    "def forwardCircuit(x, y, z):\n",
    "    q = forwardAddGate(x, y)\n",
    "    f = forwardMultiplyGate(q, z)\n",
    "    return f\n",
    "    \n",
    "    \n",
    "print(forwardCircuit(-2,5,-4))"
   ]
  },
  {
   "cell_type": "code",
   "execution_count": 51,
   "metadata": {
    "collapsed": false
   },
   "outputs": [
    {
     "name": "stdout",
     "output_type": "stream",
     "text": [
      "3.0600000000000005\n",
      "-11.91\n"
     ]
    }
   ],
   "source": [
    "#chain rule\n",
    "x = -2\n",
    "y=5\n",
    "z=-4\n",
    "\n",
    "q = forwardAddGate(x ,y)\n",
    "f = forwardMultiplyGate(q, z)\n",
    "# wrt-with repect to\n",
    "\n",
    "derivative_f_wrt_q =q\n",
    "derivative_f_wrt_y = z\n",
    "\n",
    "derivative_q_wrt_x = 1.0\n",
    "derivative_q_wrt_y = 1.0\n",
    "\n",
    "derivative_f_wrt_x = derivative_q_wrt_x * derivative_f_wrt_q\n",
    "derivative_f_wrt_y = derivative_q_wrt_y * derivative_f_wrt_q\n",
    "\n",
    "gradient_f_wrt_xyz = [derivative_f_wrt_x, derivative_f_wrt_y, derivative_f_wrt_z]\n",
    "\n",
    "\n",
    "step_size = 0.01\n",
    "x = x + step_size * derivative_f_wrt_x\n",
    "y = y + step_size * derivative_f_wrt_y\n",
    "z = z + step_size * derivative_f_wrt_z\n",
    "\n",
    "print(forwardAddGate(x,y))\n",
    "print(forwardMultiplyGate(q,z))"
   ]
  },
  {
   "cell_type": "code",
   "execution_count": 71,
   "metadata": {
    "collapsed": false
   },
   "outputs": [
    {
     "name": "stdout",
     "output_type": "stream",
     "text": [
      "-3.9999999999906777\n",
      "-3.9999999999906777\n",
      "3.000000000010772\n"
     ]
    }
   ],
   "source": [
    "x = -2\n",
    "y = 5\n",
    "z= -4\n",
    "\n",
    "h = 0.0001\n",
    "x_derivative = (forwardCircuit(x+h,y,z) - forwardCircuit(x,y,z))/h\n",
    "y_derivative = (forwardCircuit(x, y+h, z) - forwardCircuit(x, y, z))/h\n",
    "z_derivative = (forwardCircuit(x,y,z+h) - forwardCircuit(x,y,z))/h\n",
    "print (x_derivative)\n",
    "print (y_derivative)\n",
    "print (z_derivative)"
   ]
  },
  {
   "cell_type": "code",
   "execution_count": 170,
   "metadata": {
    "collapsed": true
   },
   "outputs": [],
   "source": [
    "class Unit:\n",
    "     \n",
    "    def __init__(self,value, grad):\n",
    "        self.value = value\n",
    "        self.grad = grad\n",
    "    \n",
    "class multiplyGate:\n",
    "    \n",
    "    def forward(self,u0,u1):\n",
    "        self.u0 = u0\n",
    "        self.u1 = u1\n",
    "        self.utop = Unit(u0.value * u1.value, 0.0)\n",
    "        \n",
    "        return self.utop\n",
    "    \n",
    "    def backward(self):\n",
    "        self.u0.grad += self.u1.value * self.utop.grad\n",
    "        self.u1.grad += self.u0.value * self.utop.grad"
   ]
  },
  {
   "cell_type": "code",
   "execution_count": 183,
   "metadata": {
    "collapsed": true
   },
   "outputs": [],
   "source": [
    "class addGate:\n",
    "    \n",
    "    def forward(self,u0, u1):\n",
    "        self.u0 = u0\n",
    "        self.u1 = u1\n",
    "        self.utop = Unit(u0.value + u1.value,0.0)\n",
    "        return self.utop\n",
    "    def backward(self):\n",
    "        \"computes local derivatives with repect to input and multiplies on gradient from unit above(chain rule)\"\n",
    "        #derivative wrt both inputs is 1\n",
    "        self.u0.grad += 1 * self.utop.grad\n",
    "        self.u1.grad += 1 * self.utop.grad"
   ]
  },
  {
   "cell_type": "code",
   "execution_count": 192,
   "metadata": {
    "collapsed": true
   },
   "outputs": [],
   "source": [
    "from math import exp\n",
    "class sigmoidGate:\n",
    "        def sig(self,x):\n",
    "            return 1/(1+ exp(-x))\n",
    "        def forward(self,u0):\n",
    "            self.u0 = u0\n",
    "            self.utop = Unit(self.sig(self.u0.value),0.0)\n",
    "            return self.utop\n",
    "        def backward(self):\n",
    "            s = self.sig(self.u0.value)\n",
    "            self.u0.grad += (s * (1-s)) * self.utop.grad"
   ]
  },
  {
   "cell_type": "code",
   "execution_count": 193,
   "metadata": {
    "collapsed": false
   },
   "outputs": [],
   "source": [
    "a = Unit(1.0,0.0)  \n",
    "b = Unit(2.0,0.0)\n",
    "c = Unit(-3.0, 0.0)\n",
    "x = Unit (-1.0, 0.0)\n",
    "y = Unit (3.0, 0.0)\n"
   ]
  },
  {
   "cell_type": "code",
   "execution_count": 194,
   "metadata": {
    "collapsed": false
   },
   "outputs": [
    {
     "name": "stdout",
     "output_type": "stream",
     "text": [
      "<__main__.multiplyGate object at 0x000001C177020588>\n"
     ]
    }
   ],
   "source": [
    "mulg0 = multiplyGate()\n",
    "print(mulg0)"
   ]
  },
  {
   "cell_type": "code",
   "execution_count": 195,
   "metadata": {
    "collapsed": false
   },
   "outputs": [
    {
     "name": "stdout",
     "output_type": "stream",
     "text": [
      "-1.0\n",
      "6.0\n",
      "5.0\n",
      "0.8807970779778823\n"
     ]
    }
   ],
   "source": [
    "mulg1 = multiplyGate()\n",
    "addg0 = addGate()\n",
    "addg1 = addGate()\n",
    "sg0 = sigmoidGate()\n",
    "\n",
    "\n",
    "def forwardNeuron():\n",
    "    ax = mulg0.forward(a,x)\n",
    "    print(ax.value)\n",
    "    by = mulg1.forward(b,y)\n",
    "    print (by.value)\n",
    "    axpby=addg0.forward(ax,by)\n",
    "    print(axpby.value)\n",
    "    axpbypc=addg1.forward(axpby, c)\n",
    "    s = sg0.forward(axpbypc)\n",
    "   # print(s.value)\n",
    "    return s\n",
    "   \n",
    "s=forwardNeuron()\n",
    "print(s.value)\n"
   ]
  },
  {
   "cell_type": "code",
   "execution_count": 196,
   "metadata": {
    "collapsed": false
   },
   "outputs": [],
   "source": [
    "s.grad = 1.0\n",
    "sg0.backward() #writes gradient into axpbypc\n",
    "addg1.backward() #writes gradients into axby and c\n",
    "addg0.backward() #writes gradients into b and y\n",
    "mulg1.backward()\n",
    "mulg0.backward()"
   ]
  },
  {
   "cell_type": "code",
   "execution_count": null,
   "metadata": {
    "collapsed": true
   },
   "outputs": [],
   "source": [
    "step_size = 0.01\n",
    "a.value += step_size * a.grad\n",
    "b.vlaue += step_size * b.grad\n",
    "c.value += step_size * c.grad\n",
    "x.vlaue += step_size * x.grad\n"
   ]
  }
 ],
 "metadata": {
  "kernelspec": {
   "display_name": "Python 3",
   "language": "python",
   "name": "python3"
  },
  "language_info": {
   "codemirror_mode": {
    "name": "ipython",
    "version": 3
   },
   "file_extension": ".py",
   "mimetype": "text/x-python",
   "name": "python",
   "nbconvert_exporter": "python",
   "pygments_lexer": "ipython3",
   "version": "3.5.1"
  }
 },
 "nbformat": 4,
 "nbformat_minor": 0
}
